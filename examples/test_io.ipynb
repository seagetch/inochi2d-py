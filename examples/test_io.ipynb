{
 "cells": [
  {
   "cell_type": "markdown",
   "id": "b77fabd1-3f7b-4393-b29c-4839e9264813",
   "metadata": {},
   "source": [
    "# inx file manipulation test\n",
    "\n",
    "This example code shows basic model manipulation by the script.\n",
    "This code reads the example model from file, manipulating structure directly, and write back updated model into file again.\n",
    "\n",
    "## Jupyter configurations"
   ]
  },
  {
   "cell_type": "code",
   "execution_count": null,
   "id": "ed0a0d86-b3d9-42ae-b42e-cb121a21aabb",
   "metadata": {},
   "outputs": [],
   "source": []
  },
  {
   "cell_type": "code",
   "execution_count": null,
   "id": "fc5cdb90-f265-4af4-98a4-9521bb210a17",
   "metadata": {},
   "outputs": [],
   "source": [
    "%load_ext autoreload\n",
    "%autoreload 2"
   ]
  },
  {
   "cell_type": "code",
   "execution_count": null,
   "id": "283d5193-22b1-4c48-9187-71fe937c58d4",
   "metadata": {},
   "outputs": [],
   "source": [
    "%%html\n",
    "\n",
    "<style>\n",
    "    .jp-OutputArea-child {\n",
    "        display: inline-block;\n",
    "    }\n",
    "</style>"
   ]
  },
  {
   "cell_type": "markdown",
   "id": "187c968b-c294-4b11-9aed-abc57cf10eca",
   "metadata": {},
   "source": [
    "## Package installation\n",
    "inochi2d.io package depends on pillow library.\n",
    "You can install dependent libraries by following commands.\n",
    "\n",
    "**NOTE** This notebook assumes to use conda for package management.\n",
    "Please modify following for your environment."
   ]
  },
  {
   "cell_type": "code",
   "execution_count": null,
   "id": "b7925dd3-043b-4f11-aab7-244b70106659",
   "metadata": {},
   "outputs": [],
   "source": [
    "#!conda install -y pillow"
   ]
  },
  {
   "cell_type": "markdown",
   "id": "95f6a26c-f899-49b7-921a-3a6297a9020e",
   "metadata": {},
   "source": [
    "## Initialization of python script\n",
    "This notebook assumes that inochi2d package are located at parent directory."
   ]
  },
  {
   "cell_type": "code",
   "execution_count": null,
   "id": "698955d2-6a80-462a-ac83-d7c525f05872",
   "metadata": {},
   "outputs": [],
   "source": [
    "import sys\n",
    "sys.path.append(\"..\")"
   ]
  },
  {
   "cell_type": "markdown",
   "id": "475a003a-25e1-42e6-8cec-65b4a41de105",
   "metadata": {},
   "source": [
    "## Importing modules\n",
    "- PIL.Image, PIL.ImageDraw: "
   ]
  },
  {
   "cell_type": "code",
   "execution_count": null,
   "id": "d7e9b5a4-85ed-432b-8df5-05a4e1b1085b",
   "metadata": {},
   "outputs": [],
   "source": [
    "import inochi2d.io\n",
    "import json\n",
    "import io\n",
    "from PIL import Image, ImageDraw\n",
    "import numpy as np\n",
    "from matplotlib import pyplot as plt\n",
    "from IPython.display import HTML,JSON"
   ]
  },
  {
   "cell_type": "markdown",
   "id": "e9ba4c7e-0e49-4680-8feb-2d31fe99cd87",
   "metadata": {},
   "source": [
    "## Playing with models\n",
    "### Loading .inx file into \"PuppetData\" object.\n",
    "loading example model into memory."
   ]
  },
  {
   "cell_type": "code",
   "execution_count": null,
   "id": "8aab0ab6-d89d-458a-a5fd-56260444870c",
   "metadata": {},
   "outputs": [],
   "source": [
    "#puppet = inochi2d.io.load(\"/home/seagetch/ドキュメント/demon-lord-20220718-1.6.1.inx\")\n",
    "puppet_aka = inochi2d.io.load(\"../Aka.inx\")"
   ]
  },
  {
   "cell_type": "markdown",
   "id": "cb8f24cb-ffad-4d96-a12c-5a767894917b",
   "metadata": {},
   "source": [
    "### Showing number of textures in the model"
   ]
  },
  {
   "cell_type": "code",
   "execution_count": null,
   "id": "a6427f66-41ab-43a2-829e-981ef1156098",
   "metadata": {},
   "outputs": [],
   "source": [
    "len(puppet_aka.textures)"
   ]
  },
  {
   "cell_type": "code",
   "execution_count": null,
   "id": "c42e030d-1a04-4dc6-9fc6-b0614f6db41d",
   "metadata": {},
   "outputs": [],
   "source": [
    "def show(name, tex):\n",
    "    if tex is None:\n",
    "        display(name)\n",
    "    elif tex.width > tex.height:\n",
    "        display(name, tex.resize((64, int(64 / tex.width * tex.height))))\n",
    "    else:\n",
    "        display(name, tex.resize((int(64 / tex.height * tex.width), 64)))"
   ]
  },
  {
   "cell_type": "code",
   "execution_count": null,
   "id": "c0dc1dea-071f-4c99-81da-d2c01090a83c",
   "metadata": {},
   "outputs": [],
   "source": [
    "JSON({name: json.loads(payload.decode('utf-8')) for name, payload in puppet_aka.exts.items()})"
   ]
  },
  {
   "cell_type": "code",
   "execution_count": null,
   "id": "62ddb2d6-84d0-4f41-a4d7-4faea345832c",
   "metadata": {
    "tags": []
   },
   "outputs": [],
   "source": [
    "JSON(puppet_aka.nodes(name=\"Eyeball\")[0].root)"
   ]
  },
  {
   "cell_type": "code",
   "execution_count": null,
   "id": "2504ceb5-0758-4723-b5a3-af3ebbc3a1fe",
   "metadata": {},
   "outputs": [],
   "source": [
    "def _head(x):\n",
    "    return x[0] if isinstance(x, list) else None\n",
    "for node in puppet_aka.nodes(name=\"Arm\"):\n",
    "    show(node.root.get(\"name\"), _head(node.textures())) "
   ]
  },
  {
   "cell_type": "code",
   "execution_count": null,
   "id": "93e6e68a-567d-4e71-ad8c-7b8c08cb4158",
   "metadata": {},
   "outputs": [],
   "source": [
    "[p.links(name=\"None\") for p in puppet_aka.param(name=\"Arm\")]"
   ]
  },
  {
   "cell_type": "code",
   "execution_count": null,
   "id": "f8cab17c-35b6-4e5a-82a6-bdc3c6c65fe6",
   "metadata": {},
   "outputs": [],
   "source": [
    "puppet_aka = inochi2d.io.load(\"../Aka.inx\")\n",
    "puppet_midori = inochi2d.io.load(\"../Midori.inx\")\n",
    "\n",
    "aka_head = puppet_aka.nodes(name=\"Face\")[0]\n",
    "aka_tail = puppet_aka.nodes(name=\"Tail\")[0]\n",
    "midori_head = puppet_midori.nodes(name=\"Face\")[0]\n",
    "midori_tail = puppet_midori.nodes(name=\"Tail\")[0]\n",
    "\n",
    "aka_neck = puppet_aka.nodes(name=\"Neck\")[0]\n",
    "aka_skirt = puppet_aka.nodes(name=\"Skirt\")[0]\n",
    "aka_neck.add_child(midori_head)\n",
    "aka_neck.remove_child(aka_head)\n",
    "aka_skirt.add_child(midori_tail)\n",
    "aka_skirt.remove_child(aka_tail)"
   ]
  },
  {
   "cell_type": "code",
   "execution_count": null,
   "id": "b22eab7a-f371-4c70-9616-91e146735725",
   "metadata": {},
   "outputs": [],
   "source": [
    "puppet_aka.clear_binding()"
   ]
  },
  {
   "cell_type": "code",
   "execution_count": null,
   "id": "5f10ff5a-fb7c-417b-9015-87ef471ef22b",
   "metadata": {},
   "outputs": [],
   "source": [
    "pa = puppet_aka.param(name=\"Head:: Yaw-Pitch\")[0]\n",
    "pm = puppet_midori.param(name=\"Head:: Yaw-Pitch\")[0]\n",
    "pa.merge_binding(pm)\n",
    "\n",
    "pa = puppet_aka.param(name=\"Eye:: Left:: Blink\")[0]\n",
    "pm = puppet_midori.param(name=\"Eye:: Left:: Blink\")[0]\n",
    "pa.merge_binding(pm)\n",
    "\n",
    "pa = puppet_aka.param(name=\"Eye:: Right:: Blink\")[0]\n",
    "pm = puppet_midori.param(name=\"Eye:: Right:: Blink\")[0]\n",
    "pa.merge_binding(pm)\n",
    "\n",
    "pa = puppet_aka.param(name=\"Back Side:: Hair:: Right1:: Physics\")[0]\n",
    "pm = puppet_midori.param(name=\"Back Side:: Hair:: Right1:: Physics\")[0]\n",
    "pa.merge_binding(pm)\n",
    "\n",
    "pa = puppet_aka.param(name=\"Back Side:: Hair:: Right2:: Physics\")[0]\n",
    "pm = puppet_midori.param(name=\"Back Side:: Hair:: Right2:: Physics\")[0]\n",
    "pa.merge_binding(pm)\n",
    "\n",
    "pa = puppet_aka.param(name=\"Back Side:: Hair:: Left1:: Physics\")[0]\n",
    "pm = puppet_midori.param(name=\"Back Side:: Hair:: Left1:: Physics\")[0]\n",
    "pa.merge_binding(pm)\n",
    "\n",
    "pa = puppet_aka.param(name=\"Back Side:: Hair:: Left2:: Physics\")[0]\n",
    "pm = puppet_midori.param(name=\"Back Side:: Hair:: Left2:: Physics\")[0]\n",
    "pa.merge_binding(pm)\n",
    "\n",
    "pa = puppet_aka.param(name=\"Side Hair:: Left:: Physics\")[0]\n",
    "pm = puppet_midori.param(name=\"Side Hair:: Left:: Physics\")[0]\n",
    "print(pa, pm)\n",
    "pa.merge_binding(pm)\n",
    "\n",
    "pa = puppet_aka.param(name=\"Side Hair:: Right:: Physics\")[0]\n",
    "pm = puppet_midori.param(name=\"Side Hair:: Right:: Physics\")[0]\n",
    "print(pa, pm)\n",
    "pa.merge_binding(pm)\n",
    "\n",
    "puppet_aka.clear_binding()"
   ]
  },
  {
   "cell_type": "code",
   "execution_count": null,
   "id": "54e1b0e9-63cb-4c31-8572-b61fd49473ed",
   "metadata": {},
   "outputs": [],
   "source": [
    "[show('', tex) for tex in puppet_aka.textures]\n",
    "True"
   ]
  },
  {
   "cell_type": "code",
   "execution_count": null,
   "id": "1f710146-5584-4f76-b5e4-c818f9078619",
   "metadata": {},
   "outputs": [],
   "source": [
    "#raw_data = inochi2d.io.dump_inp(puppet)\n",
    "inochi2d.io.dump(\"../Aka-test.inx\", puppet_aka)"
   ]
  },
  {
   "cell_type": "code",
   "execution_count": null,
   "id": "dc019033-a80f-4a66-873d-54393be8849c",
   "metadata": {},
   "outputs": [],
   "source": [
    "#istream = io.BytesIO(raw_data)\n",
    "#puppet2 = inochi2d.io.load_inx(istream)\n",
    "puppet2 = inochi2d.io.load(\"../Aka-test.inx\")\n",
    "for node in puppet2.nodes(name=\"Arm\"):\n",
    "    show(node.root.get(\"name\"), (lambda x: x[0] if isinstance(x, list) else None )(node.textures())) \n",
    "display(JSON(puppet2.root))\n",
    "display(JSON({name: json.loads(payload.decode('utf-8')) for name, payload in puppet2.exts.items()}))"
   ]
  },
  {
   "cell_type": "code",
   "execution_count": null,
   "id": "5dc3c1c0-2de4-4095-adab-afcbb5ee0319",
   "metadata": {},
   "outputs": [],
   "source": [
    "#puppet_d = inochi2d.io.load(\"/home/seagetch/ドキュメント/demon-lord-20220718-1.6.1.inx\")\n",
    "#param1 = puppet_d.param(name=\"Head\")[0]\n",
    "#param2 = puppet_d.param(name=\"Eye\")[0]\n",
    "#param1.add_link(param=param2)\n",
    "#inochi2d.io.dump(\"/home/seagetch/ドキュメント/demon-lord-20220718-1.6.2.inx\", puppet_d)"
   ]
  },
  {
   "cell_type": "code",
   "execution_count": null,
   "id": "c4f7f846-5268-4c67-814d-86c7979093f5",
   "metadata": {},
   "outputs": [],
   "source": [
    "#JSON(param1.root)"
   ]
  },
  {
   "cell_type": "code",
   "execution_count": null,
   "id": "d397658b-815c-4389-b512-41cbef358153",
   "metadata": {},
   "outputs": [],
   "source": []
  },
  {
   "cell_type": "code",
   "execution_count": null,
   "id": "0fd16354-71bc-4516-813c-e3b8e2b45e92",
   "metadata": {},
   "outputs": [],
   "source": []
  }
 ],
 "metadata": {
  "kernelspec": {
   "display_name": "Python [conda env:jupyter-kernel]",
   "language": "python",
   "name": "conda-env-jupyter-kernel-py"
  },
  "language_info": {
   "codemirror_mode": {
    "name": "ipython",
    "version": 3
   },
   "file_extension": ".py",
   "mimetype": "text/x-python",
   "name": "python",
   "nbconvert_exporter": "python",
   "pygments_lexer": "ipython3",
   "version": "3.9.9"
  }
 },
 "nbformat": 4,
 "nbformat_minor": 5
}
