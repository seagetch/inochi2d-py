{
 "cells": [
  {
   "cell_type": "code",
   "execution_count": null,
   "id": "ae834d63-3334-4ac3-bbf0-5ff5dbdbbb2f",
   "metadata": {},
   "outputs": [],
   "source": [
    "#!conda install -c conda-forge -y sdl2\n",
    "#!conda install -c conda-forge -y glfw"
   ]
  },
  {
   "cell_type": "code",
   "execution_count": null,
   "id": "71585afa-2253-42a6-b358-11fdbb0ef240",
   "metadata": {},
   "outputs": [],
   "source": [
    "import sys\n",
    "sys.path.append(\"..\")"
   ]
  },
  {
   "cell_type": "code",
   "execution_count": null,
   "id": "ba20f3c8-361f-4e49-8d03-c9ac1ecc318e",
   "metadata": {},
   "outputs": [],
   "source": [
    "import inochi2d.api as api\n",
    "import inochi2d.inochi2d as inochi2d\n",
    "import platform as pf\n",
    "\n",
    "from sdl2 import *\n",
    "from OpenGL import GL, GLU\n",
    "import ctypes\n",
    "\n",
    "WINDOW_WIDTH = 600\n",
    "WINDOW_HEIGHT = 900\n",
    "\n",
    "if SDL_Init(SDL_INIT_VIDEO) != 0:\n",
    "    print(SDL_GetError())\n",
    "    exit(-1)\n",
    "\n",
    "# Set up OpenGL context\n",
    "SDL_GL_SetAttribute(SDL_GL_CONTEXT_PROFILE_MASK, SDL_GL_CONTEXT_PROFILE_CORE);\n",
    "SDL_GL_SetAttribute(SDL_GL_CONTEXT_MAJOR_VERSION, 3);\n",
    "SDL_GL_SetAttribute(SDL_GL_CONTEXT_MINOR_VERSION, 2);\n",
    "\n",
    "# Set up buffers + alpha channel\n",
    "SDL_GL_SetAttribute(SDL_GL_DOUBLEBUFFER, 1);\n",
    "SDL_GL_SetAttribute(SDL_GL_DEPTH_SIZE, 24);\n",
    "SDL_GL_SetAttribute(SDL_GL_STENCIL_SIZE, 8);\n",
    "SDL_GL_SetAttribute(SDL_GL_ALPHA_SIZE, 8);\n",
    "\n",
    "if pf.uname()[0] == \"Linux\":\n",
    "    # Don't disable compositing on Linux\n",
    "    SDL_SetHint(SDL_HINT_VIDEO_X11_NET_WM_BYPASS_COMPOSITOR, b\"0\")\n",
    "\n",
    "    # We *always* want to use EGL, especially if we want to pass textures around via DMABUF.\n",
    "    #SDL_SetHint(SDL_HINT_VIDEO_X11_FORCE_EGL, b\"1\")\n",
    "    SDL_SetHint(SDL_HINT_VIDEO_EGL_ALLOW_TRANSPARENCY, b\"1\")\n",
    "\n",
    "window = SDL_CreateWindow(\n",
    "    b\"Triangle\",\n",
    "    SDL_WINDOWPOS_UNDEFINED,\n",
    "    SDL_WINDOWPOS_UNDEFINED, WINDOW_WIDTH, WINDOW_HEIGHT,\n",
    "    SDL_WINDOW_OPENGL | SDL_WINDOW_RESIZABLE\n",
    ")\n",
    "if not window:\n",
    "    print(SDL_GetError())\n",
    "    exit(-1)\n",
    "\n",
    "ctx = SDL_GL_CreateContext(window)\n",
    "SDL_GL_MakeCurrent(window, ctx);\n",
    "SDL_GL_SetSwapInterval(1); # Enable VSync"
   ]
  },
  {
   "cell_type": "code",
   "execution_count": null,
   "id": "d621b107-d462-47a9-9b3b-4abbac119bf2",
   "metadata": {},
   "outputs": [],
   "source": [
    "@ctypes.CFUNCTYPE(ctypes.c_double)\n",
    "def curr_time():\n",
    "    return SDL_GetTicks() * 0.001\n",
    "\n",
    "inochi2d.init(curr_time)"
   ]
  },
  {
   "cell_type": "code",
   "execution_count": null,
   "id": "f95eefd2-5d78-41bc-acd7-c05ab79a30b8",
   "metadata": {},
   "outputs": [],
   "source": [
    "puppet = inochi2d.Puppet.load(\"../Aka.inx\")"
   ]
  },
  {
   "cell_type": "code",
   "execution_count": null,
   "id": "92431506-487d-4ac8-81e5-01879caf2277",
   "metadata": {},
   "outputs": [],
   "source": [
    "inochi2d.Viewport.set(WINDOW_WIDTH, WINDOW_HEIGHT)\n",
    "print(\"viewport=%f,%f\"%inochi2d.Viewport.get())\n",
    "camera = inochi2d.Camera.get_current()\n",
    "camera.set_zoom(0.3)\n",
    "print(\"zoom=%f\"%camera.get_zoom())\n",
    "camera.set_position(0., 0.)\n",
    "print(\"position=%f,%f\"%camera.get_position())"
   ]
  },
  {
   "cell_type": "code",
   "execution_count": null,
   "id": "bb791418-6a35-4647-8c1e-2915142a2ddc",
   "metadata": {},
   "outputs": [],
   "source": [
    "\n",
    "ev = SDL_Event()\n",
    "isrunning = True\n",
    "while isrunning:\n",
    "    while SDL_PollEvent(ctypes.byref(ev)) != 0:\n",
    "        if ev.type == SDL_QUIT:\n",
    "            isrunning = not isrunning\n",
    "\n",
    "    try:\n",
    "        GL.glClearColor(0, 0, 0, 1)\n",
    "        GL.glClear(GL.GL_COLOR_BUFFER_BIT)\n",
    "    except GL.GLError as e:\n",
    "        pass\n",
    "\n",
    "    with inochi2d.Scene(0, 0, WINDOW_WIDTH, WINDOW_HEIGHT) as scene:\n",
    "        puppet.update()\n",
    "        puppet.draw()\n",
    "\n",
    "    SDL_GL_SwapWindow(window)\n",
    "    SDL_Delay(10)\n",
    "\n",
    "inochi2d.cleanup()\n",
    "\n",
    "SDL_GL_DeleteContext(ctx)\n",
    "SDL_DestroyWindow(window)\n",
    "SDL_Quit()"
   ]
  },
  {
   "cell_type": "code",
   "execution_count": null,
   "id": "dcecce49-eaf9-4095-9cdf-425c7e204890",
   "metadata": {},
   "outputs": [],
   "source": []
  }
 ],
 "metadata": {
  "kernelspec": {
   "display_name": "Python [conda env:jupyter-kernel]",
   "language": "python",
   "name": "conda-env-jupyter-kernel-py"
  },
  "language_info": {
   "codemirror_mode": {
    "name": "ipython",
    "version": 3
   },
   "file_extension": ".py",
   "mimetype": "text/x-python",
   "name": "python",
   "nbconvert_exporter": "python",
   "pygments_lexer": "ipython3",
   "version": "3.9.9"
  }
 },
 "nbformat": 4,
 "nbformat_minor": 5
}
