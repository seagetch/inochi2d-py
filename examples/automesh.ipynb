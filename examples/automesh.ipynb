{
 "cells": [
  {
   "cell_type": "code",
   "execution_count": null,
   "id": "fc5cdb90-f265-4af4-98a4-9521bb210a17",
   "metadata": {},
   "outputs": [],
   "source": [
    "%load_ext autoreload\n",
    "%autoreload 2"
   ]
  },
  {
   "cell_type": "code",
   "execution_count": null,
   "id": "283d5193-22b1-4c48-9187-71fe937c58d4",
   "metadata": {},
   "outputs": [],
   "source": [
    "%%html\n",
    "\n",
    "<style>\n",
    "    .jp-OutputArea-child {\n",
    "        display: inline-block;\n",
    "    }\n",
    "</style>"
   ]
  },
  {
   "cell_type": "code",
   "execution_count": null,
   "id": "b7925dd3-043b-4f11-aab7-244b70106659",
   "metadata": {},
   "outputs": [],
   "source": [
    "#!conda install -y pillow\n",
    "#!conda install -y -c conda-forge opencv"
   ]
  },
  {
   "cell_type": "code",
   "execution_count": null,
   "id": "6ab0890d-1e6c-4e58-bb07-16c7d9afb11d",
   "metadata": {},
   "outputs": [],
   "source": [
    "import sys\n",
    "sys.path.append(\"..\")"
   ]
  },
  {
   "cell_type": "code",
   "execution_count": null,
   "id": "d7e9b5a4-85ed-432b-8df5-05a4e1b1085b",
   "metadata": {},
   "outputs": [],
   "source": [
    "import inochi2d.io\n",
    "import json\n",
    "import io\n",
    "import cv2\n",
    "from PIL import Image, ImageDraw\n",
    "import numpy as np\n",
    "from matplotlib import pyplot as plt\n",
    "from IPython.display import HTML,JSON"
   ]
  },
  {
   "cell_type": "code",
   "execution_count": null,
   "id": "8aab0ab6-d89d-458a-a5fd-56260444870c",
   "metadata": {},
   "outputs": [],
   "source": [
    "#puppet_aka = inochi2d.io.load(\"/home/seagetch/ドキュメント/demon-lord-20220718-1.6.1.inx\")\n",
    "#puppet_aka = inochi2d.io.load(\"/home/seagetch/ドキュメント/girl-summer-suimwear-1.4.inx\")\n",
    "puppet_aka = inochi2d.io.load(\"../Aka-test.inx\")"
   ]
  },
  {
   "cell_type": "code",
   "execution_count": null,
   "id": "c42e030d-1a04-4dc6-9fc6-b0614f6db41d",
   "metadata": {},
   "outputs": [],
   "source": [
    "def show(name, tex):\n",
    "    if tex is None:\n",
    "        display(name)\n",
    "    elif tex.width > tex.height:\n",
    "        display(name, tex.resize((64, int(64 / tex.width * tex.height))))\n",
    "    else:\n",
    "        display(name, tex.resize((int(64 / tex.height * tex.width), 64)))"
   ]
  },
  {
   "cell_type": "code",
   "execution_count": null,
   "id": "30da9dd0-cfbb-4ed0-895b-4e9a1f60ffe5",
   "metadata": {},
   "outputs": [],
   "source": [
    "STEP = 128\n",
    "STEP_D = 32\n",
    "for node in puppet_aka.nodes():\n",
    "    img = node.textures()\n",
    "    if img is None:\n",
    "        continue\n",
    "    img = img[0]\n",
    "    size = max(img.width, img.height)\n",
    "    img_scale = 1\n",
    "    \n",
    "    step = 1\n",
    "    if size < 256:\n",
    "        step = 256 / size * 4\n",
    "    img2 = img.resize((int(img.width / img_scale), int(img.height / img_scale)), Image.LANCZOS)\n",
    "    img2 = np.array(img2, dtype=np.uint8)\n",
    "    mask = img2[:,:,3]\n",
    "    img3 = cv2.cvtColor(img2, cv2.COLOR_RGB2BGR)\n",
    "    ret, mask = cv2.threshold(mask, 15,255,0)\n",
    "#    kernel = np.ones((5,5),np.uint8)\n",
    "#    mask = cv2.erode(mask,kernel,iterations = 5)\n",
    "#    mask = cv2.dilate(mask,kernel,iterations = 5)\n",
    "    contours, hierarchy = cv2.findContours(mask,cv2.RETR_LIST,cv2.CHAIN_APPROX_SIMPLE)\n",
    "    l_contours = [len(c) for c in contours]\n",
    "    if len(l_contours) < 1:\n",
    "        continue\n",
    "    max_cont = max(l_contours)\n",
    "\n",
    "    def calc_moment(vertices):\n",
    "        if len(vertices) == 0:\n",
    "            return\n",
    "        cx = int(img.width / 2)\n",
    "        cy = int(img.height / 2)\n",
    "        return vertices - np.array([cx, cy])\n",
    "        \n",
    "    \n",
    "    def scaling(_cont, scale):\n",
    "        try:\n",
    "            M = cv2.moments(_cont)\n",
    "            cx = int(M['m10']/M['m00'])\n",
    "            cy = int(M['m01']/M['m00'])\n",
    "        except ZeroDivisionError as e:\n",
    "            cx = 0\n",
    "            cy = 0\n",
    "        cnt_norm = _cont - [cx, cy]\n",
    "        cnt_scaled = cnt_norm * scale\n",
    "        cnt_scaled = cnt_scaled + [cx, cy]\n",
    "        cnt_scaled = cnt_scaled.astype(np.int32)\n",
    "        return cnt_scaled\n",
    "\n",
    "\n",
    "    _img3 = img3.copy()\n",
    "    vertices = []\n",
    "    for i in range(len(contours)):\n",
    "        _cont =contours[i]\n",
    "        if len(_cont) < 10:\n",
    "            continue\n",
    "        _cont = _cont#[::STEP]\n",
    "        \n",
    "        def resampling (_cont, STEP):\n",
    "            _cont2 = [_cont[0]]\n",
    "            prev=_cont[0]\n",
    "            for _c in _cont:\n",
    "                if np.linalg.norm(prev - _c) > STEP:\n",
    "                    _cont2.append(_c)\n",
    "                    prev = _c\n",
    "            return np.array(_cont2)\n",
    "        \n",
    "        for scale in [1.10, 1, 0.95, 0.8, 0.6, 0.4, 0.2]:\n",
    "            __cont1 = resampling(_cont, STEP_D / scale / scale /step)\n",
    "            __cont2 = resampling(_cont, STEP_D / scale / scale /step)\n",
    "            if scale < 0.7:\n",
    "                _cont = __cont2\n",
    "            else:\n",
    "                _cont = __cont1\n",
    "            cnt_scaled = scaling(_cont, scale)\n",
    "            prev = None\n",
    "            for v in cnt_scaled:\n",
    "                v = v[0]\n",
    "                dist = min([np.linalg.norm(u-v) for u in vertices]) if len(vertices) > 0 else 1\n",
    "                if dist > 0.1:\n",
    "                    vertices.append(v)\n",
    "\n",
    "    if len(vertices) < 1:\n",
    "        continue\n",
    "    minx = min([p[0] for p in vertices])\n",
    "    miny = min([p[1] for p in vertices])\n",
    "    maxx = max([p[0] for p in vertices])\n",
    "    maxy = max([p[1] for p in vertices])\n",
    "    w = maxx - minx\n",
    "    h = maxy - miny\n",
    "    sd = cv2.Subdiv2D((0,0,w,h))\n",
    "    for i,p in enumerate(vertices):\n",
    "        try:\n",
    "            p2 = p.astype(\"f\")-np.array((minx, miny))\n",
    "            sd.insert((p2[0], p2[1]))\n",
    "        except Exception as e:\n",
    "            pass\n",
    "    tri = sd.getTriangleList().reshape(-1, 2)\n",
    "    for i in range(tri.shape[0]):\n",
    "        tri[i] += (minx, miny)\n",
    "    tri = tri.reshape(-1, 3, 2)\n",
    "    cv2.polylines(_img3, tri.astype(int), True, (255, 0, 0), thickness=2)\n",
    "    for v in vertices:\n",
    "        cv2.drawMarker(_img3, (int(v[0]), int(v[1])),(0, 255, 0), thickness=2)\n",
    "    img4 = cv2.cvtColor(_img3, cv2.COLOR_BGR2RGB)\n",
    "    img4 = Image.fromarray(img4)\n",
    "    img4 = img4.resize((int(img4.width / 4), int(img4.height / 4)))\n",
    "    \n",
    "    flat_indices = []\n",
    "    vertset = {}\n",
    "    for i,v in enumerate(vertices):\n",
    "        vertset[(int(v[0]), int(v[1]))] = i\n",
    "    for t in tri:\n",
    "        t1 = t[0].astype(int)\n",
    "        t2 = t[1].astype(int)\n",
    "        t3 = t[2].astype(int)\n",
    "        id1 = vertset.get((t1[0], t1[1]))\n",
    "        id2 = vertset.get((t2[0], t2[1]))\n",
    "        id3 = vertset.get((t3[0], t3[1]))\n",
    "        if id1 is not None and id2 is not None and id3 is not None:\n",
    "            flat_indices.extend([id1, id2, id3])\n",
    "    print(\"%d/%d\"%(len(tri), len(flat_indices)/3))\n",
    "\n",
    "    display(img4)\n",
    "    flat_vertices = []\n",
    "    flat_uvs = []\n",
    "    if len(vertices) > 0:\n",
    "        for v in calc_moment(np.array(vertices)):\n",
    "            flat_vertices.extend(v.tolist())\n",
    "            flat_uvs.extend([v[0] / img.width + 0.5, v[1] / img.height + 0.5])\n",
    "            \n",
    "    node.root[\"mesh\"][\"verts\"] = flat_vertices\n",
    "    node.root[\"mesh\"][\"uvs\"]=flat_uvs\n",
    "    node.root[\"mesh\"][\"indices\"] = flat_indices"
   ]
  },
  {
   "cell_type": "code",
   "execution_count": null,
   "id": "b22eab7a-f371-4c70-9616-91e146735725",
   "metadata": {},
   "outputs": [],
   "source": [
    "puppet_aka.clear_binding()"
   ]
  },
  {
   "cell_type": "code",
   "execution_count": null,
   "id": "e45547bc-5e61-4826-8570-d55dd2251800",
   "metadata": {},
   "outputs": [],
   "source": [
    "JSON([n.root for n in puppet_aka.nodes(name=\"Eyelid\")])"
   ]
  },
  {
   "cell_type": "code",
   "execution_count": null,
   "id": "1f710146-5584-4f76-b5e4-c818f9078619",
   "metadata": {},
   "outputs": [],
   "source": [
    "#raw_data = inochi2d.io.dump_inp(puppet)\n",
    "inochi2d.io.dump(\"../Aka-test2.inx\", puppet_aka)"
   ]
  },
  {
   "cell_type": "code",
   "execution_count": null,
   "id": "d397658b-815c-4389-b512-41cbef358153",
   "metadata": {},
   "outputs": [],
   "source": []
  },
  {
   "cell_type": "code",
   "execution_count": null,
   "id": "07d823f8-205e-46f6-9283-4809bfe151e0",
   "metadata": {},
   "outputs": [],
   "source": []
  }
 ],
 "metadata": {
  "kernelspec": {
   "display_name": "Python [conda env:jupyter-kernel]",
   "language": "python",
   "name": "conda-env-jupyter-kernel-py"
  },
  "language_info": {
   "codemirror_mode": {
    "name": "ipython",
    "version": 3
   },
   "file_extension": ".py",
   "mimetype": "text/x-python",
   "name": "python",
   "nbconvert_exporter": "python",
   "pygments_lexer": "ipython3",
   "version": "3.9.9"
  }
 },
 "nbformat": 4,
 "nbformat_minor": 5
}
