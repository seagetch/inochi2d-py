{
 "cells": [
  {
   "cell_type": "code",
   "execution_count": null,
   "id": "fc5cdb90-f265-4af4-98a4-9521bb210a17",
   "metadata": {},
   "outputs": [],
   "source": [
    "%load_ext autoreload\n",
    "%autoreload 2"
   ]
  },
  {
   "cell_type": "code",
   "execution_count": null,
   "id": "283d5193-22b1-4c48-9187-71fe937c58d4",
   "metadata": {},
   "outputs": [],
   "source": [
    "%%html\n",
    "\n",
    "<style>\n",
    "    .jp-OutputArea-child {\n",
    "        display: inline-block;\n",
    "    }\n",
    "</style>"
   ]
  },
  {
   "cell_type": "code",
   "execution_count": null,
   "id": "b7925dd3-043b-4f11-aab7-244b70106659",
   "metadata": {},
   "outputs": [],
   "source": [
    "#!conda install -y pillow"
   ]
  },
  {
   "cell_type": "code",
   "execution_count": null,
   "id": "d7e9b5a4-85ed-432b-8df5-05a4e1b1085b",
   "metadata": {},
   "outputs": [],
   "source": [
    "import inochi2d.io\n",
    "import json\n",
    "import io\n",
    "from IPython.display import HTML,JSON"
   ]
  },
  {
   "cell_type": "code",
   "execution_count": null,
   "id": "8aab0ab6-d89d-458a-a5fd-56260444870c",
   "metadata": {},
   "outputs": [],
   "source": [
    "#puppet = inochi2d.io.load(\"/home/seagetch/ドキュメント/demon-lord-20220718-1.6.1.inx\")\n",
    "puppet_aka = inochi2d.io.load(\"./Aka-working.inx\")"
   ]
  },
  {
   "cell_type": "code",
   "execution_count": null,
   "id": "a6427f66-41ab-43a2-829e-981ef1156098",
   "metadata": {},
   "outputs": [],
   "source": [
    "len(puppet_aka.textures)"
   ]
  },
  {
   "cell_type": "code",
   "execution_count": null,
   "id": "c42e030d-1a04-4dc6-9fc6-b0614f6db41d",
   "metadata": {},
   "outputs": [],
   "source": [
    "def show(name, tex):\n",
    "    if tex is None:\n",
    "        display(name)\n",
    "    elif tex.width > tex.height:\n",
    "        display(name, tex.resize((64, int(64 / tex.width * tex.height))))\n",
    "    else:\n",
    "        display(name, tex.resize((int(64 / tex.height * tex.width), 64)))"
   ]
  },
  {
   "cell_type": "code",
   "execution_count": null,
   "id": "c0dc1dea-071f-4c99-81da-d2c01090a83c",
   "metadata": {},
   "outputs": [],
   "source": [
    "JSON({name: json.loads(payload.decode('utf-8')) for name, payload in puppet_aka.exts.items()})"
   ]
  },
  {
   "cell_type": "code",
   "execution_count": null,
   "id": "62ddb2d6-84d0-4f41-a4d7-4faea345832c",
   "metadata": {
    "tags": []
   },
   "outputs": [],
   "source": [
    "JSON(puppet_aka.root)"
   ]
  },
  {
   "cell_type": "code",
   "execution_count": null,
   "id": "2504ceb5-0758-4723-b5a3-af3ebbc3a1fe",
   "metadata": {},
   "outputs": [],
   "source": [
    "def _head(x):\n",
    "    return x[0] if isinstance(x, list) else None\n",
    "for node in puppet_aka.nodes(name=\"Arm\"):\n",
    "    show(node.root.get(\"name\"), _head(node.textures())) "
   ]
  },
  {
   "cell_type": "code",
   "execution_count": null,
   "id": "93e6e68a-567d-4e71-ad8c-7b8c08cb4158",
   "metadata": {},
   "outputs": [],
   "source": [
    "[p.links(name=\"None\") for p in puppet_aka.param(name=\"Arm\")]"
   ]
  },
  {
   "cell_type": "code",
   "execution_count": null,
   "id": "f8cab17c-35b6-4e5a-82a6-bdc3c6c65fe6",
   "metadata": {},
   "outputs": [],
   "source": [
    "puppet_aka = inochi2d.io.load(\"./Aka-working.inx\")\n",
    "puppet_midori = inochi2d.io.load(\"./Midori-working.inx\")\n",
    "\n",
    "aka_head = puppet_aka.nodes(name=\"Face\")[0]\n",
    "aka_tail = puppet_aka.nodes(name=\"Tail\")[0]\n",
    "midori_head = puppet_midori.nodes(name=\"Face\")[0]\n",
    "midori_tail = puppet_midori.nodes(name=\"Tail\")[0]\n",
    "\n",
    "aka_neck = puppet_aka.nodes(name=\"Neck\")[0]\n",
    "aka_skirt = puppet_aka.nodes(name=\"Skirt\")[0]\n",
    "aka_neck.add_child(midori_head)\n",
    "aka_neck.remove_child(aka_head)\n",
    "aka_skirt.add_child(midori_tail)\n",
    "aka_skirt.remove_child(aka_tail)"
   ]
  },
  {
   "cell_type": "code",
   "execution_count": null,
   "id": "b22eab7a-f371-4c70-9616-91e146735725",
   "metadata": {},
   "outputs": [],
   "source": [
    "puppet_aka.clear_binding()"
   ]
  },
  {
   "cell_type": "code",
   "execution_count": null,
   "id": "5f10ff5a-fb7c-417b-9015-87ef471ef22b",
   "metadata": {},
   "outputs": [],
   "source": [
    "pa = puppet_aka.param(name=\"Head:: Yaw-Pitch\")[0]\n",
    "pm = puppet_midori.param(name=\"Head:: Yaw-Pitch\")[0]\n",
    "pa.merge_binding(pm)\n",
    "\n",
    "pa = puppet_aka.param(name=\"Eye:: Left:: Blink\")[0]\n",
    "pm = puppet_midori.param(name=\"Eye:: Left:: Blink\")[0]\n",
    "pa.merge_binding(pm)\n",
    "\n",
    "pa = puppet_aka.param(name=\"Eye:: Right:: Blink\")[0]\n",
    "pm = puppet_midori.param(name=\"Eye:: Right:: Blink\")[0]\n",
    "pa.merge_binding(pm)\n",
    "\n",
    "pa = puppet_aka.param(name=\"Back Side:: Hair:: Right1:: Physics\")[0]\n",
    "pm = puppet_midori.param(name=\"Back Side:: Hair:: Right1:: Physics\")[0]\n",
    "pa.merge_binding(pm)\n",
    "\n",
    "pa = puppet_aka.param(name=\"Back Side:: Hair:: Right2:: Physics\")[0]\n",
    "pm = puppet_midori.param(name=\"Back Side:: Hair:: Right2:: Physics\")[0]\n",
    "pa.merge_binding(pm)\n",
    "\n",
    "pa = puppet_aka.param(name=\"Back Side:: Hair:: Left1:: Physics\")[0]\n",
    "pm = puppet_midori.param(name=\"Back Side:: Hair:: Left1:: Physics\")[0]\n",
    "pa.merge_binding(pm)\n",
    "\n",
    "pa = puppet_aka.param(name=\"Back Side:: Hair:: Left2:: Physics\")[0]\n",
    "pm = puppet_midori.param(name=\"Back Side:: Hair:: Left2:: Physics\")[0]\n",
    "pa.merge_binding(pm)\n",
    "\n",
    "pa = puppet_aka.param(name=\"Side Hair:: Left:: Physics\")[0]\n",
    "pm = puppet_midori.param(name=\"Side Hair:: Left:: Physics\")[0]\n",
    "print(pa, pm)\n",
    "pa.merge_binding(pm)\n",
    "\n",
    "pa = puppet_aka.param(name=\"Side Hair:: Right:: Physics\")[0]\n",
    "pm = puppet_midori.param(name=\"Side Hair:: Right:: Physics\")[0]\n",
    "print(pa, pm)\n",
    "pa.merge_binding(pm)\n",
    "\n",
    "puppet_aka.clear_binding()"
   ]
  },
  {
   "cell_type": "code",
   "execution_count": null,
   "id": "54e1b0e9-63cb-4c31-8572-b61fd49473ed",
   "metadata": {},
   "outputs": [],
   "source": [
    "[(n.root.get(\"name\"), n.root.get(\"textures\")) for n in puppet_aka.nodes(\"Ear\")]\n",
    "[show('', tex) for tex in puppet_aka.textures]\n",
    "True"
   ]
  },
  {
   "cell_type": "code",
   "execution_count": null,
   "id": "1f710146-5584-4f76-b5e4-c818f9078619",
   "metadata": {},
   "outputs": [],
   "source": [
    "#raw_data = inochi2d.io.dump_inp(puppet)\n",
    "inochi2d.io.dump(\"./Aka-test.inx\", puppet_aka)"
   ]
  },
  {
   "cell_type": "code",
   "execution_count": null,
   "id": "dc019033-a80f-4a66-873d-54393be8849c",
   "metadata": {},
   "outputs": [],
   "source": [
    "#istream = io.BytesIO(raw_data)\n",
    "#puppet2 = inochi2d.io.load_inx(istream)\n",
    "puppet2 = inochi2d.io.load(\"./Aka-test.inx\")\n",
    "for node in puppet2.nodes(name=\"Arm\"):\n",
    "    show(node.root.get(\"name\"), (lambda x: x[0] if isinstance(x, list) else None )(node.textures())) \n",
    "display(JSON(puppet2.root))\n",
    "display(JSON({name: json.loads(payload.decode('utf-8')) for name, payload in puppet2.exts.items()}))"
   ]
  },
  {
   "cell_type": "code",
   "execution_count": null,
   "id": "5dc3c1c0-2de4-4095-adab-afcbb5ee0319",
   "metadata": {},
   "outputs": [],
   "source": []
  }
 ],
 "metadata": {
  "kernelspec": {
   "display_name": "Python [conda env:jupyter-kernel]",
   "language": "python",
   "name": "conda-env-jupyter-kernel-py"
  },
  "language_info": {
   "codemirror_mode": {
    "name": "ipython",
    "version": 3
   },
   "file_extension": ".py",
   "mimetype": "text/x-python",
   "name": "python",
   "nbconvert_exporter": "python",
   "pygments_lexer": "ipython3",
   "version": "3.9.9"
  }
 },
 "nbformat": 4,
 "nbformat_minor": 5
}
